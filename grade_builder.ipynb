{
 "cells": [
  {
   "cell_type": "code",
   "execution_count": null,
   "metadata": {},
   "outputs": [],
   "source": [
    "import numpy as np\n",
    "import pandas as pd\n",
    "import matplotlib.pyplot as plt"
   ]
  },
  {
   "cell_type": "code",
   "execution_count": null,
   "metadata": {},
   "outputs": [],
   "source": [
    "# Graphing functs\n",
    "import seaborn as sns\n",
    "\n",
    "# Apply the default theme\n",
    "sns.set_theme()"
   ]
  },
  {
   "cell_type": "code",
   "execution_count": null,
   "metadata": {},
   "outputs": [],
   "source": [
    "rg = np.random.default_rng()"
   ]
  },
  {
   "cell_type": "code",
   "execution_count": null,
   "metadata": {},
   "outputs": [],
   "source": [
    "# Add known values\n",
    "low = 0\n",
    "high = 50\n",
    "d_mean = 5.93\n",
    "d_median = 15\n",
    "q2 = 10\n",
    "q3 = 20\n",
    "\n",
    "# When samples is lower graphs drawn needs to go up in order to smooth\n",
    "samples = 180\n",
    "\n",
    "# Following are parameters for confindence\n",
    "entries_left = samples - 2\n",
    "error = 0.01\n",
    "max_mods = 10\n",
    "modify_values = True\n",
    "\n",
    "mod_step_size = d_mean / 100\n",
    "\n",
    "# Scale with to be constant\n",
    "left_width = (q2 - low)\n",
    "q2_width = (d_median - q2)\n",
    "q3_width = (q3 - d_median)\n",
    "right_width = (high - q3)\n",
    "\n",
    "# Vals directly depended on set vars\n",
    "samples_per_space = int(samples / 4)\n",
    "array_array = []\n",
    "test_array = np.array([low, high])\n",
    "\n",
    "# Usable offsets\n",
    "width_array = [left_width, q2_width, q3_width, right_width]\n",
    "values_offset = [low, q2, d_median, q3]\n",
    "\n",
    "\n",
    "# Number of graphs to make\n",
    "num_graphs = 18000\n",
    "\n",
    "for x in range(num_graphs):\n",
    "    for offset, width in zip(values_offset, width_array):\n",
    "        test_array = np.sort(np.concatenate([test_array, (rg.random(size=samples_per_space) * width) + offset]))\n",
    "    array_array.append(pd.Series(test_array))\n",
    "    test_array = np.array([low, high])\n",
    "test_array = pd.concat(array_array, axis=1)\n",
    "test_array = test_array.mean(axis=1)\n",
    "\n",
    "\n",
    "steps = 0\n",
    "\n",
    "while (modify_values):\n",
    "    steps += 1\n",
    "    # (abs(test_array.median() - d_median) > error)\n",
    "    if (((test_array.mean() - d_mean) > error)):\n",
    "        if (steps > max_mods):\n",
    "            break\n",
    "        #if ((steps % int(num_graphs / 4)) == 0):\n",
    "        test_array = np.sort(test_array)\n",
    "\n",
    "        offset_mod = int((rg.random(size=1)[0] * (test_array.shape[0] / 2)) + 1)\n",
    "        #print(offset_mod)\n",
    "        test_array[-1::offset_mod] += mod_step_size\n",
    "        test_array[offset_mod] -= mod_step_size\n",
    "    break\n",
    "\n",
    "# Reduce number of bins until not to noisy\n",
    "# This will just give a general shape\n",
    "sns.displot(data=test_array, kde=True)"
   ]
  },
  {
   "cell_type": "code",
   "execution_count": null,
   "metadata": {},
   "outputs": [],
   "source": [
    "print(f'Target Mean: {d_mean}, Target Median {d_median}')\n",
    "print(f'Mean: {test_array.mean()}, Median: {np.median(test_array)}')\n",
    "print(f'Mean Error {d_mean - test_array.mean()}, Median Error {d_median - np.median(test_array)}')\n",
    "print(f'Mod steps taken {steps}')\n"
   ]
  }
 ],
 "metadata": {
  "kernelspec": {
   "display_name": ".env",
   "language": "python",
   "name": "python3"
  },
  "language_info": {
   "codemirror_mode": {
    "name": "ipython",
    "version": 3
   },
   "file_extension": ".py",
   "mimetype": "text/x-python",
   "name": "python",
   "nbconvert_exporter": "python",
   "pygments_lexer": "ipython3",
   "version": "3.10.12"
  }
 },
 "nbformat": 4,
 "nbformat_minor": 2
}
